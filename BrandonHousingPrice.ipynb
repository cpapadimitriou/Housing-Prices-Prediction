{
 "cells": [
  {
   "cell_type": "code",
   "execution_count": 2,
   "metadata": {},
   "outputs": [],
   "source": [
    "import pandas as pd\n",
    "import numpy as np\n",
    "from sklearn.preprocessing import FunctionTransformer, StandardScaler, Imputer\n",
    "from sklearn.pipeline import Pipeline\n",
    "from sklearn.linear_model import LinearRegression, Ridge\n",
    "from sklearn.kernel_ridge import KernelRidge\n",
    "from sklearn.feature_extraction import FeatureHasher\n",
    "from sklearn.feature_extraction import DictVectorizer\n",
    "from sklearn.pipeline import FeatureUnion\n",
    "from sklearn.model_selection import train_test_split\n",
    "from sklearn.model_selection import GridSearchCV\n",
    "from sklearn import metrics\n",
    "from sklearn.metrics import accuracy_score, mean_squared_error\n",
    "from sklearn.decomposition import PCA, TruncatedSVD\n",
    "import matplotlib.pyplot as plt\n",
    "import math\n",
    "from sklearn.ensemble import GradientBoostingRegressor\n",
    "from xgboost import XGBClassifier, XGBRegressor\n",
    "\n",
    "# Load some data\n",
    "full_train = pd.read_csv('train.csv', squeeze=True)\n",
    "test = pd.read_csv('test.csv', squeeze=True)\n",
    "sample_submission = pd.read_csv('sample_submission.csv', squeeze=True)"
   ]
  },
  {
   "cell_type": "code",
   "execution_count": 3,
   "metadata": {},
   "outputs": [
    {
     "name": "stdout",
     "output_type": "stream",
     "text": [
      "(1460, 81)\n",
      "(1459, 80)\n"
     ]
    }
   ],
   "source": [
    "# Exploratory Data Analysis\n",
    "print full_train.shape\n",
    "print test.shape"
   ]
  },
  {
   "cell_type": "code",
   "execution_count": null,
   "metadata": {},
   "outputs": [],
   "source": []
  },
  {
   "cell_type": "code",
   "execution_count": 4,
   "metadata": {},
   "outputs": [
    {
     "data": {
      "text/plain": [
       "PoolQC          1453\n",
       "MiscFeature     1406\n",
       "Alley           1369\n",
       "Fence           1179\n",
       "FireplaceQu      690\n",
       "LotFrontage      259\n",
       "GarageYrBlt       81\n",
       "GarageType        81\n",
       "GarageFinish      81\n",
       "GarageQual        81\n",
       "GarageCond        81\n",
       "BsmtFinType2      38\n",
       "BsmtExposure      38\n",
       "BsmtFinType1      37\n",
       "BsmtCond          37\n",
       "BsmtQual          37\n",
       "MasVnrArea         8\n",
       "MasVnrType         8\n",
       "Electrical         1\n",
       "dtype: int64"
      ]
     },
     "execution_count": 4,
     "metadata": {},
     "output_type": "execute_result"
    }
   ],
   "source": [
    "# Categorical NA\n",
    "naCounts = full_train.isna().sum()\n",
    "naVals = naCounts[naCounts>0].sort_values(ascending=False)\n",
    "naVals"
   ]
  },
  {
   "cell_type": "code",
   "execution_count": null,
   "metadata": {},
   "outputs": [],
   "source": []
  },
  {
   "cell_type": "code",
   "execution_count": 5,
   "metadata": {},
   "outputs": [],
   "source": [
    "# NA Columns we are choosing to remove\n",
    "naCols = [\n",
    "\"PoolQC\",\n",
    "\"MiscFeature\",\n",
    "\"Alley\",\n",
    "\"Fence\",\n",
    "\"FireplaceQu\",\n",
    "\"LotFrontage\",\n",
    "\"GarageYrBlt\",\n",
    "\"GarageType\",\n",
    "\"GarageFinish\",\n",
    "\"GarageQual\",\n",
    "\"GarageCond\",\n",
    "]"
   ]
  },
  {
   "cell_type": "code",
   "execution_count": 6,
   "metadata": {},
   "outputs": [
    {
     "name": "stdout",
     "output_type": "stream",
     "text": [
      "[   2    2    2    3    3    3    3    3    4    4    4    4    4    4\n",
      "    4    4    4    4    5    5    5    5    5    5    5    5    5    5\n",
      "    5    5    5    6    6    6    6    6    6    6    6    7    7    7\n",
      "    7    8    8    8    8    8    9    9    9   10   12   12   15   15\n",
      "   16   20   21   24   25   61   76  112  120  144  178  202  274  335\n",
      "  369  417  441  637  663  721  753  780  861 1073 1460]\n"
     ]
    },
    {
     "data": {
      "text/plain": [
       "['3SsnPorch',\n",
       " 'MasVnrType',\n",
       " 'LotConfig',\n",
       " 'BsmtUnfSF',\n",
       " 'GarageQual',\n",
       " 'Exterior1st',\n",
       " 'GarageFinish',\n",
       " '2ndFlrSF',\n",
       " 'HalfBath',\n",
       " 'Utilities',\n",
       " 'OverallCond',\n",
       " 'Fence',\n",
       " 'Electrical',\n",
       " 'SalePrice',\n",
       " 'BsmtQual',\n",
       " 'SaleCondition',\n",
       " 'HouseStyle',\n",
       " 'GrLivArea',\n",
       " 'YearRemodAdd',\n",
       " 'SaleType',\n",
       " 'MasVnrArea',\n",
       " 'Foundation',\n",
       " 'ExterCond',\n",
       " 'BsmtFullBath',\n",
       " 'BsmtCond',\n",
       " 'HeatingQC',\n",
       " 'LotFrontage',\n",
       " 'MiscVal',\n",
       " 'CentralAir',\n",
       " 'BsmtExposure',\n",
       " 'OverallQual',\n",
       " 'KitchenAbvGr',\n",
       " 'BsmtFinSF1',\n",
       " 'LotShape',\n",
       " 'BsmtHalfBath',\n",
       " 'TotalBsmtSF',\n",
       " 'BsmtFinSF2',\n",
       " 'TotRmsAbvGrd',\n",
       " 'MiscFeature',\n",
       " 'PavedDrive',\n",
       " 'OpenPorchSF',\n",
       " 'LandSlope',\n",
       " 'GarageYrBlt',\n",
       " 'PoolArea',\n",
       " 'FullBath',\n",
       " 'YrSold',\n",
       " 'ScreenPorch',\n",
       " 'Exterior2nd',\n",
       " 'Heating',\n",
       " 'MSSubClass',\n",
       " 'PoolQC',\n",
       " 'WoodDeckSF',\n",
       " '1stFlrSF',\n",
       " 'YearBuilt',\n",
       " 'KitchenQual',\n",
       " 'BsmtFinType2',\n",
       " 'BsmtFinType1',\n",
       " 'Condition2',\n",
       " 'Condition1',\n",
       " 'GarageType',\n",
       " 'LandContour',\n",
       " 'RoofMatl',\n",
       " 'Neighborhood',\n",
       " 'Fireplaces',\n",
       " 'BedroomAbvGr',\n",
       " 'MoSold',\n",
       " 'BldgType',\n",
       " 'ExterQual',\n",
       " 'Functional',\n",
       " 'Alley',\n",
       " 'RoofStyle',\n",
       " 'Street',\n",
       " 'LowQualFinSF',\n",
       " 'GarageArea',\n",
       " 'MSZoning',\n",
       " 'GarageCars',\n",
       " 'FireplaceQu',\n",
       " 'EnclosedPorch',\n",
       " 'GarageCond']"
      ]
     },
     "execution_count": 6,
     "metadata": {},
     "output_type": "execute_result"
    }
   ],
   "source": [
    "# Selecting Low Variety Categorical Columns\n",
    "currentCounts = {}\n",
    "for col in full_train.columns:\n",
    "    currentCounts[col] = []\n",
    "    for val in full_train[col]:\n",
    "        if val not in currentCounts[col]:\n",
    "            currentCounts[col].append(val)\n",
    "for k in currentCounts:\n",
    "    currentCounts[k] = len(currentCounts[k])\n",
    "print np.sort(currentCounts.values())\n",
    "gen_columns = []\n",
    "for k in currentCounts:\n",
    "    if currentCounts[k] <= 1000:\n",
    "        gen_columns.append(k)\n",
    "gen_columns"
   ]
  },
  {
   "cell_type": "code",
   "execution_count": 7,
   "metadata": {},
   "outputs": [],
   "source": [
    "full_s_fields = [\n",
    "    'MSZoning',\n",
    "    'Street',\n",
    "    'Alley',\n",
    "    'LotShape',\n",
    "    'LandContour',\n",
    "    'Utilities',\n",
    "    'LotConfig',\n",
    "    'LandSlope',\n",
    "    'Neighborhood',\n",
    "    'Condition1',\n",
    "    'Condition2',\n",
    "    'BldgType',\n",
    "    'HouseStyle',\n",
    "    'OverallQual',\n",
    "    'RoofStyle',\n",
    "    'RoofMatl',\n",
    "    'Exterior1st',\n",
    "    'Exterior2nd',\n",
    "    'MasVnrType',\n",
    "    'ExterQual',\n",
    "    'ExterCond',\n",
    "    'Foundation',\n",
    "    'BsmtQual',\n",
    "    'BsmtCond',\n",
    "    'BsmtExposure',\n",
    "    'BsmtFinType1',\n",
    "    'BsmtFinType2',\n",
    "    'Heating',\n",
    "    'HeatingQC',\n",
    "    'CentralAir',\n",
    "    'Electrical',\n",
    "    'Electrical',\n",
    "    'KitchenQual',\n",
    "    'Functional',\n",
    "    'FireplaceQu',\n",
    "    'GarageType',\n",
    "    'GarageFinish',\n",
    "    'GarageQual',\n",
    "    'GarageCond',\n",
    "    'PavedDrive',\n",
    "    'PoolQC',\n",
    "    'Fence',\n",
    "    'MiscFeature',\n",
    "    'SaleType',\n",
    "    'MSSubClass',\n",
    "    'SaleCondition'\n",
    "]\n",
    "full_n_fields = [\n",
    "    'LotFrontage',\n",
    "    'LotArea',\n",
    "    'YearBuilt',\n",
    "    'YearRemodAdd',\n",
    "    'MasVnrArea',\n",
    "    'BsmtFinSF1',\n",
    "    'BsmtFinSF2',\n",
    "    'BsmtUnfSF',\n",
    "    'TotalBsmtSF',\n",
    "    '1stFlrSF',\n",
    "    '2ndFlrSF',\n",
    "    'LowQualFinSF',\n",
    "    'GrLivArea',\n",
    "    'BsmtFullBath',\n",
    "    'BsmtHalfBath',\n",
    "    'FullBath',\n",
    "    'HalfBath',\n",
    "    'BedroomAbvGr',\n",
    "    'KitchenAbvGr',\n",
    "    'TotRmsAbvGrd',\n",
    "    'Fireplaces',\n",
    "    'GarageYrBlt',\n",
    "    'GarageCars',\n",
    "    'GarageArea',\n",
    "    'WoodDeckSF',\n",
    "    'OpenPorchSF',\n",
    "    'EnclosedPorch',\n",
    "    '3SsnPorch',\n",
    "    'ScreenPorch',\n",
    "    'PoolArea',\n",
    "    'YrSold',\n",
    "    'MoSold',\n",
    "    'MiscVal',\n",
    "]\n",
    "\n",
    "s_fields = [ c for c in full_s_fields if not c in naCols and c in gen_columns]\n",
    "n_fields = [c for c in full_n_fields if not c in naCols and c in gen_columns]"
   ]
  },
  {
   "cell_type": "code",
   "execution_count": 8,
   "metadata": {},
   "outputs": [
    {
     "data": {
      "text/plain": [
       "(1056, 81)"
      ]
     },
     "execution_count": 8,
     "metadata": {},
     "output_type": "execute_result"
    }
   ],
   "source": [
    "# Remove outliers greater than 3 standard deviations\n",
    "new_train = full_train.copy()\n",
    "to_drop = []\n",
    "for r_idx, row in full_train.iterrows():\n",
    "    for c_idx, val in enumerate(row):\n",
    "        c_name = full_train.columns[c_idx]\n",
    "        if c_name in n_fields:\n",
    "            c_mean = full_train[c_name].mean()\n",
    "            val_diff = np.abs(val - c_mean)\n",
    "            c_std = full_train[c_name].std()\n",
    "            if val_diff >= 3 * c_std:\n",
    "                to_drop.append(r_idx)\n",
    "\n",
    "train = new_train.drop(new_train.index[to_drop])\n",
    "train.shape"
   ]
  },
  {
   "cell_type": "code",
   "execution_count": 9,
   "metadata": {},
   "outputs": [],
   "source": [
    "# Set target and predictors\n",
    "target = 'SalePrice'\n",
    "predictors = [c for c in train.columns if not c == target and not c in naCols and c in gen_columns]\n",
    "\n",
    "# Train/test split\n",
    "X = train[predictors]\n",
    "y = train[[target]]\n",
    "X_train, X_dev, y_train, y_dev = train_test_split(X, y, random_state=1)\n",
    "X_test = test[predictors]"
   ]
  },
  {
   "cell_type": "code",
   "execution_count": 10,
   "metadata": {},
   "outputs": [],
   "source": [
    "def make_csv(name, pred):\n",
    "    new_df = test.copy()\n",
    "    new_df['SalePrice'] = pred\n",
    "    new_df[['Id', 'SalePrice']].to_csv(name, index=False)"
   ]
  },
  {
   "cell_type": "code",
   "execution_count": null,
   "metadata": {},
   "outputs": [],
   "source": []
  },
  {
   "cell_type": "code",
   "execution_count": 12,
   "metadata": {},
   "outputs": [],
   "source": [
    "def ensure_data_type(X):\n",
    "    return X.apply(lambda col: col.astype(str))\n",
    "\n",
    "def make_dictionaries(X):\n",
    "    return X.to_dict(orient='records')\n",
    "\n",
    "def select_categorical_features(X):\n",
    "    return X[s_fields]\n",
    "\n",
    "def select_numeric_features(X):\n",
    "    return X[n_fields]\n",
    "\n",
    "numeric_selector = FunctionTransformer(select_numeric_features, validate=False)\n",
    "imp = Imputer(strategy='mean')\n",
    "\n",
    "scf = FunctionTransformer(select_categorical_features, validate=False)\n",
    "ed = FunctionTransformer(ensure_data_type, validate=False)\n",
    "md = FunctionTransformer(make_dictionaries, validate=False)\n",
    "fh = FeatureHasher(n_features=2000)\n",
    "\n",
    "\n",
    "numeric_feature_pipeline = Pipeline(steps=[\n",
    "    ('select', numeric_selector),\n",
    "    ('impute', imp),\n",
    "])\n",
    "\n",
    "categorical_pipeline = Pipeline(steps=[\n",
    "    ('select', scf),\n",
    "    ('datatype', ed),\n",
    "    ('dictionaries', md),\n",
    "    ('vectorize', fh)\n",
    "])\n",
    "fu = FeatureUnion([\n",
    "    ('categorical', categorical_pipeline),\n",
    "    ('numeric', numeric_feature_pipeline),\n",
    "])\n",
    "fr = Pipeline([\n",
    "    ('union', fu),\n",
    "    ('reduction', TruncatedSVD(n_components=400)),\n",
    "])\n",
    "def root_mean_square_error(pred, actual):\n",
    "    log_actual = np.log(actual)\n",
    "    log_pred = np.log(pred)\n",
    "    return np.sqrt(mean_squared_error(log_actual, log_pred))"
   ]
  },
  {
   "cell_type": "code",
   "execution_count": 20,
   "metadata": {},
   "outputs": [
    {
     "name": "stderr",
     "output_type": "stream",
     "text": [
      "/Users/brandoncummings/anaconda2/envs/py27/lib/python2.7/site-packages/ipykernel_launcher.py:5: UserWarning: DataFrame columns are not unique, some columns will be omitted.\n",
      "  \"\"\"\n"
     ]
    },
    {
     "name": "stdout",
     "output_type": "stream",
     "text": [
      "{'predict__fit_intercept': False, 'preprocess__reduction__n_components': 200, 'predict__random_state': 1, 'predict__alpha': 10.0, 'preprocess__union__categorical__vectorize__n_features': 2000, 'preprocess__union__numeric__impute__strategy': 'mean', 'predict__solver': 'cholesky'}\n",
      "0.9157412510520612\n",
      "0.009800922538193419\n"
     ]
    }
   ],
   "source": [
    "# Ridge Log Sales Price\n",
    "rid = Ridge()\n",
    "search_params = {\n",
    "    'preprocess__union__categorical__vectorize__n_features': [1000, 2000],\n",
    "    'preprocess__union__numeric__impute__strategy': ['mean'],\n",
    "    'preprocess__reduction__n_components': [200, 400],\n",
    "    'predict__alpha': [10.0],\n",
    "    'predict__fit_intercept': [False],\n",
    "    'predict__solver': [\"cholesky\"],\n",
    "    'predict__random_state': [1],\n",
    "}\n",
    "model_pipe = Pipeline(steps=[\n",
    "    ('preprocess', fr),\n",
    "    ('predict', rid)\n",
    "])\n",
    "\n",
    "round_num = 2\n",
    "grid_search = GridSearchCV(model_pipe, search_params, cv=5)\n",
    "grid_search.fit(X_train, np.log(y_train).round(round_num))\n",
    "print grid_search.best_params_\n",
    "print grid_search.score(X_dev, np.log(y_dev).round(round_num))\n",
    "print root_mean_square_error(grid_search.predict(X_dev), np.log(y_dev).round(round_num))\n",
    "rid_pred = grid_search.predict(X_test)"
   ]
  },
  {
   "cell_type": "code",
   "execution_count": 21,
   "metadata": {},
   "outputs": [],
   "source": [
    "make_csv('logPrice_ridge.csv', np.exp(rid_pred))"
   ]
  },
  {
   "cell_type": "code",
   "execution_count": 84,
   "metadata": {},
   "outputs": [
    {
     "name": "stderr",
     "output_type": "stream",
     "text": [
      "/Users/brandoncummings/anaconda2/envs/py27/lib/python2.7/site-packages/ipykernel_launcher.py:1: SettingWithCopyWarning: \n",
      "A value is trying to be set on a copy of a slice from a DataFrame\n",
      "\n",
      "See the caveats in the documentation: http://pandas.pydata.org/pandas-docs/stable/indexing.html#indexing-view-versus-copy\n",
      "  \"\"\"Entry point for launching an IPython kernel.\n"
     ]
    }
   ],
   "source": []
  },
  {
   "cell_type": "code",
   "execution_count": null,
   "metadata": {},
   "outputs": [],
   "source": []
  },
  {
   "cell_type": "code",
   "execution_count": null,
   "metadata": {},
   "outputs": [],
   "source": [
    "\n"
   ]
  },
  {
   "cell_type": "code",
   "execution_count": 12,
   "metadata": {},
   "outputs": [],
   "source": []
  },
  {
   "cell_type": "code",
   "execution_count": null,
   "metadata": {},
   "outputs": [],
   "source": []
  },
  {
   "cell_type": "code",
   "execution_count": 16,
   "metadata": {},
   "outputs": [
    {
     "name": "stderr",
     "output_type": "stream",
     "text": [
      "/Users/brandoncummings/anaconda2/envs/py27/lib/python2.7/site-packages/ipykernel_launcher.py:5: UserWarning: DataFrame columns are not unique, some columns will be omitted.\n",
      "  \"\"\"\n",
      "/Users/brandoncummings/anaconda2/envs/py27/lib/python2.7/site-packages/sklearn/utils/validation.py:578: DataConversionWarning: A column-vector y was passed when a 1d array was expected. Please change the shape of y to (n_samples, ), for example using ravel().\n",
      "  y = column_or_1d(y, warn=True)\n"
     ]
    },
    {
     "name": "stdout",
     "output_type": "stream",
     "text": [
      "{'predict__max_depth': 6, 'predict__n_estimators': 1000, 'preprocess__reduction__n_components': 100, 'predict__subsample': 0.7, 'preprocess__union__categorical__vectorize__n_features': 2000, 'preprocess__union__numeric__impute__strategy': 'mean', 'predict__learning_rate': 0.01}\n",
      "0.8753608441530928\n",
      "0.011782268808122283\n"
     ]
    }
   ],
   "source": [
    "# Gradient Boosting\n",
    "\n",
    "gb = GradientBoostingRegressor(subsample=.7, max_depth=6, learning_rate = .05, \n",
    "                               n_estimators=500, max_features='auto')\n",
    "\n",
    "search_params = {\n",
    "    'preprocess__union__categorical__vectorize__n_features': [2000],\n",
    "    'preprocess__union__numeric__impute__strategy': ['mean'],\n",
    "    'preprocess__reduction__n_components': [100],\n",
    "    'predict__n_estimators': [1000],\n",
    "    'predict__max_depth': [6],\n",
    "    'predict__learning_rate': [0.01],\n",
    "    'predict__subsample': [0.7],\n",
    "}\n",
    "model_pipe = Pipeline(steps=[\n",
    "    ('preprocess', fr),\n",
    "    ('predict', gb)\n",
    "])\n",
    "\n",
    "grid_search = GridSearchCV(model_pipe, search_params, cv=5)\n",
    "grid_search.fit(X_train, np.log(y_train).round(round_num))\n",
    "print grid_search.best_params_\n",
    "print grid_search.score(X_dev, np.log(y_dev).round(round_num))\n",
    "print root_mean_square_error(grid_search.predict(X_dev), np.log(y_dev).round(round_num))\n",
    "gb_pred = grid_search.predict(X_test)"
   ]
  },
  {
   "cell_type": "code",
   "execution_count": 18,
   "metadata": {},
   "outputs": [],
   "source": [
    "make_csv('logPrice_GBTest.csv', np.exp(gb_pred))"
   ]
  },
  {
   "cell_type": "code",
   "execution_count": 17,
   "metadata": {},
   "outputs": [
    {
     "name": "stderr",
     "output_type": "stream",
     "text": [
      "/Users/brandoncummings/anaconda2/envs/py27/lib/python2.7/site-packages/ipykernel_launcher.py:5: UserWarning: DataFrame columns are not unique, some columns will be omitted.\n",
      "  \"\"\"\n"
     ]
    },
    {
     "name": "stdout",
     "output_type": "stream",
     "text": [
      "{'predict__max_depth': 6, 'predict__n_estimators': 1000, 'preprocess__union__categorical__vectorize__n_features': 2000, 'predict__subsample': 0.7, 'predict__objective': 'reg:linear', 'preprocess__reduction__n_components': 100, 'preprocess__union__numeric__impute__strategy': 'mean', 'predict__learning_rate': 0.01}\n",
      "0.8699604705466604\n",
      "0.012047315165966077\n"
     ]
    }
   ],
   "source": [
    "import xgboost\n",
    "\n",
    "xgb = XGBRegressor(objective='reg:linear')\n",
    "\n",
    "search_params = {\n",
    "    'preprocess__union__categorical__vectorize__n_features': [2000],\n",
    "    'preprocess__union__numeric__impute__strategy': ['mean'],\n",
    "    'preprocess__reduction__n_components': [100],\n",
    "    'predict__n_estimators': [1000],\n",
    "    'predict__max_depth': [6],\n",
    "    'predict__learning_rate': [0.01],\n",
    "    'predict__subsample': [0.7],\n",
    "    'predict__objective': ['reg:linear'],\n",
    "}\n",
    "model_pipe = Pipeline(steps=[\n",
    "    ('preprocess', fr),\n",
    "    ('predict', xgb)\n",
    "])\n",
    "\n",
    "grid_search = GridSearchCV(model_pipe, search_params, cv=5)\n",
    "grid_search.fit(X_train, np.log(y_train).round(round_num))\n",
    "print grid_search.best_params_\n",
    "print grid_search.score(X_dev, np.log(y_dev).round(round_num))\n",
    "print root_mean_square_error(grid_search.predict(X_dev), np.log(y_dev).round(round_num))\n",
    "xgb_pred = grid_search.predict(X_test)\n",
    "\n"
   ]
  },
  {
   "cell_type": "code",
   "execution_count": 19,
   "metadata": {},
   "outputs": [],
   "source": [
    "make_csv('logPrice_XGBTest.csv', np.exp(xgb_pred))"
   ]
  },
  {
   "cell_type": "code",
   "execution_count": null,
   "metadata": {},
   "outputs": [],
   "source": []
  },
  {
   "cell_type": "code",
   "execution_count": null,
   "metadata": {},
   "outputs": [],
   "source": []
  },
  {
   "cell_type": "code",
   "execution_count": null,
   "metadata": {},
   "outputs": [],
   "source": []
  }
 ],
 "metadata": {
  "kernelspec": {
   "display_name": "Python 2",
   "language": "python",
   "name": "python2"
  },
  "language_info": {
   "codemirror_mode": {
    "name": "ipython",
    "version": 2
   },
   "file_extension": ".py",
   "mimetype": "text/x-python",
   "name": "python",
   "nbconvert_exporter": "python",
   "pygments_lexer": "ipython2",
   "version": "2.7.14"
  }
 },
 "nbformat": 4,
 "nbformat_minor": 2
}
